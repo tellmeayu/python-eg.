{
 "cells": [
  {
   "cell_type": "markdown",
   "metadata": {},
   "source": [
    "hist函数的参数解读\n",
    "   \n",
    "绘图之前，我们先来讲解一下matplotlib包中hist函数的参数含义及使用方法："
   ]
  },
  {
   "cell_type": "raw",
   "metadata": {},
   "source": [
    "plt.hist(x, bins=10, range=None, normed=False, \n",
    "        weights=None, cumulative=False, bottom=None, \n",
    "        histtype='bar', align='mid', orientation='vertical', \n",
    "        rwidth=None, log=False, color=None, \n",
    "        label=None, stacked=False)"
   ]
  },
  {
   "cell_type": "raw",
   "metadata": {},
   "source": [
    "x：指定要绘制直方图的数据；\n",
    "bins：指定直方图条形的个数；\n",
    "range：指定直方图数据的上下界，默认包含绘图数据的最大值和最小值；\n",
    "normed：是否将直方图的频数转换成频率；\n",
    "weights：该参数可为每一个数据点设置权重；\n",
    "cumulative：是否需要计算累计频数或频率；\n",
    "bottom：可以为直方图的每个条形添加基准线，默认为0；\n",
    "histtype：指定直方图的类型，默认为bar，除此还有’barstacked’, ‘step’,  ‘stepfilled’；\n",
    "align：设置条形边界值的对其方式，默认为mid，除此还有’left’和’right’；\n",
    "orientation：设置直方图的摆放方向，默认为垂直方向；\n",
    "rwidth：设置直方图条形宽度的百分比；\n",
    "log：是否需要对绘图数据进行log变换；\n",
    "color：设置直方图的填充色；\n",
    "label：设置直方图的标签，可通过legend展示其图例；\n",
    "stacked：当有多个数据时，是否需要将直方图呈堆叠摆放，默认水平摆放；"
   ]
  },
  {
   "cell_type": "markdown",
   "metadata": {},
   "source": [
    "# 一元直方图的绘制"
   ]
  },
  {
   "cell_type": "markdown",
   "metadata": {},
   "source": [
    "案例：titanic数据集\n",
    "\n",
    "整体乘客的年龄直方图"
   ]
  },
  {
   "cell_type": "code",
   "execution_count": 1,
   "metadata": {},
   "outputs": [
    {
     "data": {
      "image/png": "[encoded data removed]",
      "text/plain": [
       "<Figure size 432x288 with 1 Axes>"
      ]
     },
     "metadata": {},
     "output_type": "display_data"
    }
   ],
   "source": [
    "# 导入第三方包\n",
    "import numpy as np\n",
    "import pandas as pd\n",
    "import matplotlib.pyplot as plt\n",
    "import matplotlib.mlab as mlab\n",
    "%matplotlib inline\n",
    "\n",
    "# 中文和负号的正常显示\n",
    "plt.rcParams['font.sans-serif'] = ['Microsoft YaHei']\n",
    "plt.rcParams['axes.unicode_minus'] = False\n",
    "\n",
    "# 读取Titanic数据集\n",
    "#titanic = pd.read_csv('D:/数据分析数据/titanic_train.csv')  有中文可能会报错 改为如下\n",
    "f = open('D:/数据分析数据/titanic_train.csv')\n",
    "titanic = pd.read_csv(f)\n",
    "# 检查年龄是否有缺失any(titanic.Age.isnull())\n",
    "# 不妨删除含有缺失年龄的观察\n",
    "titanic.dropna(subset=['Age'], inplace=True)\n",
    "\n",
    "# 设置图形的显示风格\n",
    "plt.style.use('ggplot')\n",
    "# 绘图：乘客年龄的频数直方图\n",
    "plt.hist(titanic.Age, # 绘图数据\n",
    "        bins = 20, # 指定直方图的条形数为20个\n",
    "        color = 'pink', # 指定填充色\n",
    "        edgecolor = 'steelblue', # 指定直方图的边界色\n",
    "        label = '直方图' )# 为直方图呈现标签\n",
    "\n",
    "# 去除图形顶部边界和右边界的刻度\n",
    "plt.tick_params(top='off', right='off')\n",
    "# 显示图例\n",
    "plt.legend()\n",
    "# 显示图形\n",
    "plt.show()"
   ]
  },
  {
   "cell_type": "markdown",
   "metadata": {
    "collapsed": true
   },
   "source": [
    "上图绘制的是年龄的频数直方图，从整体的分布来看，有点像正态分布，两边低中间高的倒钟形状。除此，我们还可以绘制累计频率直方图，并且设置5岁为组距，如下代码可以表示成："
   ]
  },
  {
   "cell_type": "code",
   "execution_count": 2,
   "metadata": {},
   "outputs": [
    {
     "name": "stderr",
     "output_type": "stream",
     "text": [
      "D:\\Anaconda3\\lib\\site-packages\\ipykernel_launcher.py:8: MatplotlibDeprecationWarning: \n",
      "The 'normed' kwarg was deprecated in Matplotlib 2.1 and will be removed in 3.1. Use 'density' instead.\n",
      "  \n"
     ]
    },
    {
     "data": {
      "image/png": "[encoded data removed]",
      "text/plain": [
       "<Figure size 432x288 with 1 Axes>"
      ]
     },
     "metadata": {},
     "output_type": "display_data"
    }
   ],
   "source": [
    "# 绘图：乘客年龄的累计频率直方图\n",
    "plt.hist(titanic.Age, # 绘图数据\n",
    "        bins = np.arange(titanic.Age.min(),titanic.Age.max(),5), # 指定直方图的组距\n",
    "        normed = True, # 设置为频率直方图\n",
    "        cumulative = True, # 积累直方图\n",
    "        color = 'steelblue', # 指定填充色\n",
    "        edgecolor = 'k', # 指定直方图的边界色\n",
    "        label = '直方图' )# 为直方图呈现标签\n",
    "\n",
    "# 设置坐标轴标签和标题\n",
    "plt.title('乘客年龄的频率累计直方图')\n",
    "plt.xlabel('年龄')\n",
    "plt.ylabel('累计频率')\n",
    "\n",
    "# 去除图形顶部边界和右边界的刻度\n",
    "plt.tick_params(top='off', right='off')\n",
    "\n",
    "# 显示图例\n",
    "plt.legend(loc = 'best')\n",
    "# 显示图形\n",
    "plt.show()"
   ]
  },
  {
   "cell_type": "markdown",
   "metadata": {},
   "source": [
    "通过累计频率直方图就可以快速的发现什么年龄段的人数占了多少比重，例如35岁以下的乘客占了7成，这种图的解读有点像帕累托图。为了测试数据集是否近似服从正态分布，需要在直方图的基础上再绘制两条线，一条表示理论的正态分布曲线，另一条为核密度曲线，目的就是比较两条曲线的吻合度，越吻合就说明数据越近似于正态分布。接下来我们就在直方图的基础上再添加两条曲线："
   ]
  },
  {
   "cell_type": "code",
   "execution_count": 3,
   "metadata": {},
   "outputs": [
    {
     "name": "stderr",
     "output_type": "stream",
     "text": [
      "D:\\Anaconda3\\lib\\site-packages\\ipykernel_launcher.py:6: MatplotlibDeprecationWarning: \n",
      "The 'normed' kwarg was deprecated in Matplotlib 2.1 and will be removed in 3.1. Use 'density' instead.\n",
      "  \n"
     ]
    },
    {
     "ename": "AttributeError",
     "evalue": "module 'matplotlib.mlab' has no attribute 'normpdf'",
     "output_type": "error",
     "traceback": [
      "\u001b[1;31m---------------------------------------------------------------------------\u001b[0m",
      "\u001b[1;31mAttributeError\u001b[0m                            Traceback (most recent call last)",
      "\u001b[1;32m<ipython-input-3-59e376393797>\u001b[0m in \u001b[0;36m<module>\u001b[1;34m()\u001b[0m\n\u001b[0;32m     13\u001b[0m \u001b[1;31m# 生成正态曲线的数据\u001b[0m\u001b[1;33m\u001b[0m\u001b[1;33m\u001b[0m\u001b[0m\n\u001b[0;32m     14\u001b[0m \u001b[0mx1\u001b[0m \u001b[1;33m=\u001b[0m \u001b[0mnp\u001b[0m\u001b[1;33m.\u001b[0m\u001b[0mlinspace\u001b[0m\u001b[1;33m(\u001b[0m\u001b[0mtitanic\u001b[0m\u001b[1;33m.\u001b[0m\u001b[0mAge\u001b[0m\u001b[1;33m.\u001b[0m\u001b[0mmin\u001b[0m\u001b[1;33m(\u001b[0m\u001b[1;33m)\u001b[0m\u001b[1;33m,\u001b[0m \u001b[0mtitanic\u001b[0m\u001b[1;33m.\u001b[0m\u001b[0mAge\u001b[0m\u001b[1;33m.\u001b[0m\u001b[0mmax\u001b[0m\u001b[1;33m(\u001b[0m\u001b[1;33m)\u001b[0m\u001b[1;33m,\u001b[0m \u001b[1;36m1000\u001b[0m\u001b[1;33m)\u001b[0m\u001b[1;33m\u001b[0m\u001b[0m\n\u001b[1;32m---> 15\u001b[1;33m \u001b[0mnormal\u001b[0m \u001b[1;33m=\u001b[0m \u001b[0mmlab\u001b[0m\u001b[1;33m.\u001b[0m\u001b[0mnormpdf\u001b[0m\u001b[1;33m(\u001b[0m\u001b[0mx1\u001b[0m\u001b[1;33m,\u001b[0m \u001b[0mtitanic\u001b[0m\u001b[1;33m.\u001b[0m\u001b[0mAge\u001b[0m\u001b[1;33m.\u001b[0m\u001b[0mmean\u001b[0m\u001b[1;33m(\u001b[0m\u001b[1;33m)\u001b[0m\u001b[1;33m,\u001b[0m \u001b[0mtitanic\u001b[0m\u001b[1;33m.\u001b[0m\u001b[0mAge\u001b[0m\u001b[1;33m.\u001b[0m\u001b[0mstd\u001b[0m\u001b[1;33m(\u001b[0m\u001b[1;33m)\u001b[0m\u001b[1;33m)\u001b[0m\u001b[1;33m\u001b[0m\u001b[0m\n\u001b[0m\u001b[0;32m     16\u001b[0m \u001b[1;31m# 绘制正态分布曲线\u001b[0m\u001b[1;33m\u001b[0m\u001b[1;33m\u001b[0m\u001b[0m\n\u001b[0;32m     17\u001b[0m \u001b[0mline1\u001b[0m\u001b[1;33m,\u001b[0m \u001b[1;33m=\u001b[0m \u001b[0mplt\u001b[0m\u001b[1;33m.\u001b[0m\u001b[0mplot\u001b[0m\u001b[1;33m(\u001b[0m\u001b[0mx1\u001b[0m\u001b[1;33m,\u001b[0m\u001b[0mnormal\u001b[0m\u001b[1;33m,\u001b[0m\u001b[1;34m'r-'\u001b[0m\u001b[1;33m,\u001b[0m \u001b[0mlinewidth\u001b[0m \u001b[1;33m=\u001b[0m \u001b[1;36m2\u001b[0m\u001b[1;33m)\u001b[0m\u001b[1;33m\u001b[0m\u001b[0m\n",
      "\u001b[1;31mAttributeError\u001b[0m: module 'matplotlib.mlab' has no attribute 'normpdf'"
     ]
    },
    {
     "data": {
      "image/png": "[encoded data removed]",
      "text/plain": [
       "<Figure size 432x288 with 1 Axes>"
      ]
     },
     "metadata": {},
     "output_type": "display_data"
    }
   ],
   "source": [
    "# 正态分布图\n",
    "plt.hist(titanic.Age, # 绘图数据\n",
    "        bins = np.arange(titanic.Age.min(),titanic.Age.max(),5), # 指定直方图的组距\n",
    "        normed = True, # 设置为频率直方图\n",
    "        color = 'steelblue', # 指定填充色\n",
    "        edgecolor = 'k') # 指定直方图的边界色\n",
    "\n",
    "# 设置坐标轴标签和标题\n",
    "plt.title('乘客年龄直方图')\n",
    "plt.xlabel('年龄')\n",
    "plt.ylabel('频率')\n",
    "\n",
    "# 生成正态曲线的数据\n",
    "x1 = np.linspace(titanic.Age.min(), titanic.Age.max(), 1000)\n",
    "normal = mlab.normpdf(x1, titanic.Age.mean(), titanic.Age.std())\n",
    "# 绘制正态分布曲线\n",
    "line1, = plt.plot(x1,normal,'r-', linewidth = 2) \n",
    "\n",
    "# 生成核密度曲线的数据\n",
    "kde = mlab.GaussianKDE(titanic.Age)\n",
    "x2 = np.linspace(titanic.Age.min(), titanic.Age.max(), 1000)\n",
    "# 绘制\n",
    "line2, = plt.plot(x2,kde(x2),'g-', linewidth = 2)\n",
    "\n",
    "# 去除图形顶部边界和右边界的刻度\n",
    "plt.tick_params(top='off', right='off')\n",
    "\n",
    "# 显示图例\n",
    "plt.legend([line1, line2],['正态分布曲线','核密度曲线'],loc='best')\n",
    "# 显示图形\n",
    "plt.show()"
   ]
  },
  {
   "cell_type": "markdown",
   "metadata": {},
   "source": [
    "从直方图的展现来看，乘客的年龄分布与理论正态分布曲线存在一些差异，说明不服从正态分布。"
   ]
  },
  {
   "cell_type": "markdown",
   "metadata": {},
   "source": [
    "# 二元直方图的绘制"
   ]
  },
  {
   "cell_type": "markdown",
   "metadata": {},
   "source": [
    "上面绘制的直方图都是基于所有乘客的年龄，如果想对比男女乘客的年龄直方图的话，我们可以通过两个hist将不同性别的直方图绘制到一张图内，具体代码如下："
   ]
  },
  {
   "cell_type": "code",
   "execution_count": 4,
   "metadata": {},
   "outputs": [
    {
     "data": {
      "image/png": "[encoded data removed]",
      "text/plain": [
       "<Figure size 432x288 with 1 Axes>"
      ]
     },
     "metadata": {},
     "output_type": "display_data"
    }
   ],
   "source": [
    "# 提取不同性别的年龄数据\n",
    "age_female = titanic.Age[titanic.Sex == 'female']\n",
    "age_male = titanic.Age[titanic.Sex == 'male']\n",
    "\n",
    "# 设置直方图的组距\n",
    "bins = np.arange(titanic.Age.min(), titanic.Age.max(), 2)\n",
    "# 男性乘客年龄直方图\n",
    "plt.hist(age_male, bins = bins, label = '男性', color = 'steelblue', alpha = 0.7)\n",
    "# 女性乘客年龄直方图\n",
    "plt.hist(age_female, bins = bins, label = '女性', alpha = 0.6)\n",
    "\n",
    "# 设置坐标轴标签和标题\n",
    "plt.title('乘客年龄直方图')\n",
    "plt.xlabel('年龄')\n",
    "plt.ylabel('人数')\n",
    "\n",
    "# 去除图形顶部边界和右边界的刻度\n",
    "plt.tick_params(top='off', right='off')\n",
    "\n",
    "# 显示图例\n",
    "plt.legend()\n",
    "# 显示图形\n",
    "plt.show()"
   ]
  },
  {
   "cell_type": "markdown",
   "metadata": {},
   "source": [
    "图中结果反映了，不同年龄组内几乎都是男性乘客比女性乘客要多；同时，也说明男女性别的年龄组分布几乎一致。"
   ]
  },
  {
   "cell_type": "code",
   "execution_count": null,
   "metadata": {
    "collapsed": true
   },
   "outputs": [],
   "source": []
  }
 ],
 "metadata": {
  "kernelspec": {
   "display_name": "Python 3",
   "language": "python",
   "name": "python3"
  },
  "language_info": {
   "codemirror_mode": {
    "name": "ipython",
    "version": 3
   },
   "file_extension": ".py",
   "mimetype": "text/x-python",
   "name": "python",
   "nbconvert_exporter": "python",
   "pygments_lexer": "ipython3",
   "version": "3.6.5"
  },
  "toc": {
   "base_numbering": 1,
   "nav_menu": {},
   "number_sections": true,
   "sideBar": true,
   "skip_h1_title": false,
   "title_cell": "Table of Contents",
   "title_sidebar": "Contents",
   "toc_cell": false,
   "toc_position": {},
   "toc_section_display": true,
   "toc_window_display": false
  }
 },
 "nbformat": 4,
 "nbformat_minor": 2
}
