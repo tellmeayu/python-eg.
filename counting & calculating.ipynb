{
 "cells": [
  {
   "cell_type": "code",
   "execution_count": 4,
   "metadata": {},
   "outputs": [
    {
     "ename": "NameError",
     "evalue": "name 'month' is not defined",
     "output_type": "error",
     "traceback": [
      "\u001b[0;31m---------------------------------------------------------------------------\u001b[0m",
      "\u001b[0;31mNameError\u001b[0m                                 Traceback (most recent call last)",
      "\u001b[0;32m<ipython-input-4-10a14007977f>\u001b[0m in \u001b[0;36m<module>\u001b[0;34m\u001b[0m\n\u001b[1;32m     11\u001b[0m     \u001b[0mprint\u001b[0m\u001b[0;34m(\u001b[0m\u001b[0;34m'{}来了{}个月，获得奖金{}'\u001b[0m\u001b[0;34m.\u001b[0m\u001b[0mformat\u001b[0m\u001b[0;34m(\u001b[0m\u001b[0mname\u001b[0m\u001b[0;34m,\u001b[0m\u001b[0mmonth\u001b[0m\u001b[0;34m,\u001b[0m\u001b[0mbonus\u001b[0m\u001b[0;34m(\u001b[0m\u001b[0mmonth\u001b[0m\u001b[0;34m)\u001b[0m\u001b[0;34m)\u001b[0m\u001b[0;34m)\u001b[0m\u001b[0;34m\u001b[0m\u001b[0;34m\u001b[0m\u001b[0m\n\u001b[1;32m     12\u001b[0m \u001b[0;34m\u001b[0m\u001b[0m\n\u001b[0;32m---> 13\u001b[0;31m \u001b[0minfo\u001b[0m\u001b[0;34m(\u001b[0m\u001b[0;34m'David'\u001b[0m\u001b[0;34m,\u001b[0m\u001b[0;36m9\u001b[0m\u001b[0;34m)\u001b[0m\u001b[0;34m\u001b[0m\u001b[0;34m\u001b[0m\u001b[0m\n\u001b[0m\u001b[1;32m     14\u001b[0m \u001b[0;34m\u001b[0m\u001b[0m\n\u001b[1;32m     15\u001b[0m \u001b[0;31m#------------------参考答案⬇️⬇️⬇️-----------------------\u001b[0m\u001b[0;34m\u001b[0m\u001b[0;34m\u001b[0m\u001b[0;34m\u001b[0m\u001b[0m\n",
      "\u001b[0;32m<ipython-input-4-10a14007977f>\u001b[0m in \u001b[0;36minfo\u001b[0;34m(name, time)\u001b[0m\n\u001b[1;32m      9\u001b[0m \u001b[0;34m\u001b[0m\u001b[0m\n\u001b[1;32m     10\u001b[0m \u001b[0;32mdef\u001b[0m \u001b[0minfo\u001b[0m\u001b[0;34m(\u001b[0m\u001b[0mname\u001b[0m\u001b[0;34m,\u001b[0m\u001b[0mtime\u001b[0m\u001b[0;34m)\u001b[0m\u001b[0;34m:\u001b[0m\u001b[0;34m\u001b[0m\u001b[0;34m\u001b[0m\u001b[0m\n\u001b[0;32m---> 11\u001b[0;31m     \u001b[0mprint\u001b[0m\u001b[0;34m(\u001b[0m\u001b[0;34m'{}来了{}个月，获得奖金{}'\u001b[0m\u001b[0;34m.\u001b[0m\u001b[0mformat\u001b[0m\u001b[0;34m(\u001b[0m\u001b[0mname\u001b[0m\u001b[0;34m,\u001b[0m\u001b[0mmonth\u001b[0m\u001b[0;34m,\u001b[0m\u001b[0mbonus\u001b[0m\u001b[0;34m(\u001b[0m\u001b[0mmonth\u001b[0m\u001b[0;34m)\u001b[0m\u001b[0;34m)\u001b[0m\u001b[0;34m)\u001b[0m\u001b[0;34m\u001b[0m\u001b[0;34m\u001b[0m\u001b[0m\n\u001b[0m\u001b[1;32m     12\u001b[0m \u001b[0;34m\u001b[0m\u001b[0m\n\u001b[1;32m     13\u001b[0m \u001b[0minfo\u001b[0m\u001b[0;34m(\u001b[0m\u001b[0;34m'David'\u001b[0m\u001b[0;34m,\u001b[0m\u001b[0;36m9\u001b[0m\u001b[0;34m)\u001b[0m\u001b[0;34m\u001b[0m\u001b[0;34m\u001b[0m\u001b[0m\n",
      "\u001b[0;31mNameError\u001b[0m: name 'month' is not defined"
     ]
    }
   ],
   "source": [
    "def bonus(month):  #这个函数main（）的month为什么可以和下面result（）函数的month通用??\n",
    "    if month<13:\n",
    "        money=500\n",
    "        return \n",
    "    elif 6<=month<=12:\n",
    "        money=120*month\n",
    "    elif month>12:\n",
    "        money=180*month\n",
    "    return money\n",
    "\n",
    "def info(name,time):\n",
    "    print('{}来了{}个月，获得奖金{}'.format(name,month,bonus(month)))\n",
    "    \n",
    "info('David',9)\n",
    "\n",
    "#------------------参考答案⬇️⬇️⬇️-----------------------\n",
    "\n",
    "def bonus(month):\n",
    "    if month < 6:\n",
    "        money = 500\n",
    "        return money\n",
    "    elif 6 <= month <= 12:\n",
    "        money = 120 * month\n",
    "        return money\n",
    "    else:\n",
    "        money = 180 * month\n",
    "        return money\n",
    "\n",
    "def info(name, month):\n",
    "    gain = bonus(month)\n",
    "    print(gain)\n",
    "    print('%s来了%s个月，获得奖金%s元' % (name, month, gain)) \n",
    "\n",
    "info('大聪',14)\n"
   ]
  },
  {
   "cell_type": "code",
   "execution_count": 82,
   "metadata": {},
   "outputs": [
    {
     "name": "stdout",
     "output_type": "stream",
     "text": [
      "输入上个月利润额：90\n",
      "输入本月利润额：80\n",
      "-12.5%\n"
     ]
    }
   ],
   "source": [
    "#计算利润增长率，要定义增长率的函数div()、特殊情况的提示语，warning（）函数、实际操作时候的主函数main（）\n",
    "\n",
    "def div(num1,num2): #上月和本月利润差值与本月的比率，so there're two parameters\n",
    "    growth=(num2-num1)/num2\n",
    "    percent=str(growth*100)+'%'\n",
    "    return percent  #根据assignment，percent is a string value\n",
    "\n",
    "def warning():\n",
    "    print('are you sure \n",
    "\n",
    "there\\'s no growth,neither lose??')\n",
    "    \n",
    "def main():\n",
    "    while True:\n",
    "        num1=float(input('输入上个月利润额：'))\n",
    "        num2=float(input('输入本月利润额：') )       \n",
    "        if num2==0:\n",
    "            warning()\n",
    "            continue\n",
    "        else:\n",
    "            print(div(num1,num2)) #div()最终是一个return value 所以可打印\n",
    "            break\n",
    "main()"
   ]
  },
  {
   "cell_type": "code",
   "execution_count": 8,
   "metadata": {},
   "outputs": [
    {
     "name": "stdout",
     "output_type": "stream",
     "text": [
      "2520\n",
      "2520\n",
      "大聪来了14个月，获得奖金2520元\n"
     ]
    }
   ],
   "source": [
    "def bonus(month):\n",
    "    if month < 6:\n",
    "        money = 500\n",
    "        print(money) # money\n",
    "    elif 6 <= month <= 12:\n",
    "        money = 120 * month\n",
    "        print(money)\n",
    "    else:\n",
    "        money = 180 * month\n",
    "        print(money)\n",
    "        return money\n",
    "    \n",
    "def info(name, month):\n",
    "    gain = bonus(month)\n",
    "    print(gain)\n",
    "    print('%s来了%s个月，获得奖金%s元' % (name, month, gain)) \n",
    "\n",
    "info('大聪',14)\n"
   ]
  },
  {
   "cell_type": "code",
   "execution_count": 23,
   "metadata": {},
   "outputs": [
    {
     "name": "stdout",
     "output_type": "stream",
     "text": [
      "Collecting xlrd\n",
      "\u001b[?25l  Downloading https://files.pythonhosted.org/packages/b0/16/63576a1a001752e34bf8ea62e367997530dc553b689356b9879339cf45a4/xlrd-1.2.0-py2.py3-none-any.whl (103kB)\n",
      "\u001b[K    100% |████████████████████████████████| 112kB 12kB/s ta 0:00:01\n",
      "\u001b[?25hInstalling collected packages: xlrd\n",
      "Successfully installed xlrd-1.2.0\n",
      "\u001b[33mYou are using pip version 19.0.3, however version 19.2.1 is available.\n",
      "You should consider upgrading via the 'pip install --upgrade pip' command.\u001b[0m\n"
     ]
    }
   ],
   "source": [
    "rent = 3000\n",
    "\n",
    "def cost():\n",
    "    utilities = int(input('请输入本月的水电费用'))\n",
    "    food_cost = int(input('请输入本月的食材费用'))\n",
    "    variable_cost = utilities + food_cost\n",
    "    print('本月的变动成本是' + str(variable_cost))\n",
    "    return variable_cost\n",
    "cost()\n",
    "\n",
    "def sum_cost():\n",
    "    sum = rent + cost()\n",
    "    print('本月的总成本是' + str(sum))\n",
    "\n",
    "sum_cost()"
   ]
  },
  {
   "cell_type": "code",
   "execution_count": 14,
   "metadata": {},
   "outputs": [
    {
     "data": {
      "text/plain": [
       "500"
      ]
     },
     "execution_count": 14,
     "metadata": {},
     "output_type": "execute_result"
    }
   ],
   "source": [
    "def bonus(month):  \n",
    "    if month<13:\n",
    "        money=500\n",
    "    \n",
    "        return money\n",
    "    elif 6<=month<=12:\n",
    "        money=120*month\n",
    "        print(money)\n",
    "    elif month>12:\n",
    "        money=180*month\n",
    "    return money\n",
    "bonus(10)"
   ]
  },
  {
   "cell_type": "code",
   "execution_count": 16,
   "metadata": {},
   "outputs": [
    {
     "name": "stdout",
     "output_type": "stream",
     "text": [
      "请选择计算类型：（1-人力计算，2-工时计算）2\n",
      "请输入项目大小：（1代表标准大小，可以输入小数）2.8\n",
      "请输入人力数量：（请输入整数）2\n",
      "项目大小为2.8个标准项目，使用2个人力完成，则需要工时数量为：112.0个\n"
     ]
    }
   ],
   "source": [
    "import math\n",
    "\n",
    "def estimated(size=1,number=None,time=None):\n",
    "    if (number == None) and (time != None):\n",
    "        number = math.ceil(size * 80 / time)\n",
    "        print('项目大小为%.1f个标准项目，如果需要在%.1f个工时完成，则需要人力数量为：%d人' %(size,time,number))  \n",
    "    elif (number != None) and (time == None):\n",
    "        time = size * 80 / number\n",
    "        print('项目大小为%.1f个标准项目，使用%d个人力完成，则需要工时数量为：%.1f个' %(size,number,time))  \n",
    "\n",
    "choice = input('请选择计算类型：（1-人力计算，2-工时计算）')\n",
    "if choice == '1':\n",
    "    size = float(input('请输入项目大小：（1代表标准大小，可以输入小数）'))\n",
    "    number = None\n",
    "    time = float(input('请输入工时数量：（可以输入小数）'))\n",
    "    estimated(size,number,time)\n",
    "elif choice == '2':\n",
    "    size = float(input('请输入项目大小：（1代表标准大小，可以输入小数）'))\n",
    "    number = int(input('请输入人力数量：（请输入整数）'))\n",
    "    time = None\n",
    "    estimated(size,number,time)"
   ]
  },
  {
   "cell_type": "code",
   "execution_count": 4,
   "metadata": {},
   "outputs": [
    {
     "name": "stdout",
     "output_type": "stream",
     "text": [
      "need to count again? Please choose 'yes' or 'no' :s\n",
      "please input again\n",
      "need to count again? Please choose 'yes' or 'no' :4\n",
      "please input again\n",
      "need to count again? Please choose 'yes' or 'no' :yes\n",
      "carry on\n",
      "need to count again? Please choose 'yes' or 'no' :yes\n",
      "carry on\n",
      "need to count again? Please choose 'yes' or 'no' :no\n"
     ]
    }
   ],
   "source": [
    "import time\n",
    "\n",
    "def again():\n",
    "    while True:\n",
    "        repeat=input('need to count again? Please choose \\'yes\\' or \\'no\\' :')\n",
    "        if repeat=='yes':\n",
    "            print('carry on')\n",
    "        elif repeat=='no':\n",
    "            print('exit the system. Thank you!')\n",
    "            break\n",
    "        elif repeat!='yes' and repeat!='no':\n",
    "            print('please input again')\n",
    "            time.sleep(1)\n",
    "            \n",
    "again()"
   ]
  },
  {
   "cell_type": "code",
   "execution_count": null,
   "metadata": {},
   "outputs": [],
   "source": []
  }
 ],
 "metadata": {
  "kernelspec": {
   "display_name": "Python 3",
   "language": "python",
   "name": "python3"
  },
  "language_info": {
   "codemirror_mode": {
    "name": "ipython",
    "version": 3
   },
   "file_extension": ".py",
   "mimetype": "text/x-python",
   "name": "python",
   "nbconvert_exporter": "python",
   "pygments_lexer": "ipython3",
   "version": "3.7.3"
  }
 },
 "nbformat": 4,
 "nbformat_minor": 2
}
